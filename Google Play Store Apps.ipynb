{
 "cells": [
  {
   "cell_type": "markdown",
   "metadata": {},
   "source": [
    "*Aprenentatge Computacional*  \n",
    "- Zakaria Boudich Makran (1672001)"
   ]
  },
  {
   "cell_type": "markdown",
   "metadata": {},
   "source": [
    "# Pràctica - Google Play Store Apps"
   ]
  },
  {
   "cell_type": "markdown",
   "metadata": {},
   "source": [
    "En aquesta pràctica s'abordarà la creació d'un model per tal de predir el nombre de descàrregues que tindrà una aplicació mòbil, representat per l'atribut *Installs*. Seguirem una sèrie de passos per obtenir el resultat, primer analitzarem les dades, les preprocessarem, s'escollirà les mètriques i els diferents models per així aconseguir el millor model."
   ]
  },
  {
   "cell_type": "markdown",
   "metadata": {},
   "source": [
    "## 0. Importació de llibreries "
   ]
  },
  {
   "cell_type": "markdown",
   "metadata": {},
   "source": [
    "Importem les llibreries necessàries per a la manipulació, visualització i anàlisi de dades ⚙️"
   ]
  },
  {
   "cell_type": "code",
   "execution_count": 143,
   "metadata": {},
   "outputs": [],
   "source": [
    "# LLIBRERIA PER MANIPULACIÓ DE DADES\n",
    "import pandas as pd\n",
    "\n",
    "# LLIBRERIA PER TREBALLAR AMB MATRIUS MULTIDIMENSIONALS\n",
    "import numpy as np\n",
    "\n",
    "# LLIBRERIA PER DETECTAR VALORS NULS\n",
    "import missingno as msno\n",
    "\n",
    "# LLIBRERIA PER VISUALITZAR DADES\n",
    "import seaborn as sns\n",
    "import matplotlib.pylab as plt\n",
    "\n",
    "# FUNCIÓ QUE ENS PERMET DIVIDIR EN DOS CONJUNTS EL DATASET \n",
    "from sklearn.model_selection import train_test_split\n",
    "\n",
    "# LLIBRERIA PER EINES DE PREPROCESSING\n",
    "from sklearn.preprocessing import MinMaxScaler\n",
    "\n",
    "# LLIBRERIA PER IMPORTAR DIFERENTS MODELS\n",
    "from sklearn.linear_model import LogisticRegression\n",
    "from sklearn.svm import SVC\n",
    "from sklearn.neighbors import KNeighborsClassifier\n",
    "from sklearn.tree import DecisionTreeClassifier\n",
    "from sklearn.ensemble import RandomForestClassifier, AdaBoostClassifier\n",
    "\n",
    "# LLIBRERIA PER ANALITZAR DIFERENTS MODELS\n",
    "from sklearn.metrics import roc_curve, auc, precision_recall_curve, average_precision_score, roc_auc_score\n",
    "from sklearn.metrics import accuracy_score,  precision_score, recall_score\n",
    "\n",
    "# LLIBRERIA PER FER VALIDACIÓ DE DIFERENTS MODELS\n",
    "from sklearn.model_selection import StratifiedKFold, cross_val_score, learning_curve, GridSearchCV, cross_val_predict\n",
    "\n",
    "# LLIBRERIES PER TRANSFORMAR VARIABLES CATEGÒRIQUES A FORMATS NUMÈRICS\n",
    "from category_encoders.one_hot import OneHotEncoder\n",
    "from category_encoders.ordinal import OrdinalEncoder\n",
    "\n",
    "# LLIBRERIA PER CREAR CÒPIES D'OBJECTES\n",
    "import copy as cp\n",
    "\n",
    "# LLIBRERIA PER GESTIONAR I MANIPULAR DATES I HORES \n",
    "from datetime import datetime\n",
    "\n",
    "# LLIBRERIA QUE ENS PERMET TREBALLAR AMB EXPRESSIONS REGULARS\n",
    "import re\n",
    "\n",
    "# LLIBRERIA PER GESTIONAR ADVERTÈNCIES (warnings)\n",
    "import warnings  \n",
    "\n",
    "# LLIBRERIA PER CONFIGURAR LA VISUALITZACIÓ\n",
    "from matplotlib import rcParams\n",
    "\n",
    "# Suprimir todos los warnings\n",
    "warnings.filterwarnings('ignore')"
   ]
  },
  {
   "cell_type": "markdown",
   "metadata": {},
   "source": [
    "## 1. EDA (exploratory data analysis) "
   ]
  },
  {
   "cell_type": "markdown",
   "metadata": {},
   "source": [
    "En aquest apartat, realitzarem una anàlisi exploratòria de les dades, on examinarem les característiques del conjunt de dades, buscarem patrons i visualitzarem la distribució de les variables. \n",
    "\n",
    "En aquest cas, ens ve donat **dos conjunts de dades**.\n",
    "\n",
    "**1. Dataset de les aplicacions (Apps):** 📲  \n",
    "* Conté informació sobre les aplicacions a la Google Play Store, com el nom, la categoria, la valoració mitjana, el nombre d'instal·lacions, el preu, etc.  \n",
    "* Aquest conjunt de dades ens permet entendre les característiques bàsiques de cada aplicació i el seu rendiment a la botiga.\n",
    "\n",
    "**2. Dataset de les ressenyes (Reviews):** ⭐ \n",
    "* Conté les opinions dels usuaris sobre les aplicacions anteriors. Cada ressenya inclou la valoració que l'usuari ha donat a l'aplicació, comentari de l'usuari, etc. \n",
    "* Aquest conjunt de dades és útil per estudiar el sentiment dels usuaris i com les valoracions individuals poden influir en la valoració general de l'aplicació.\n",
    "\n",
    "El conjunt de dades *reviews* només conté un 10% de les aplicacions presents en *apps*, per tant no ens aporta informació suficient per a l'entrenament del model. Tot i així, s'ha realitzat un anàlisi bàsic d'aquest conjunt de dades i es presenta als annexos.\n"
   ]
  },
  {
   "cell_type": "markdown",
   "metadata": {},
   "source": [
    "### 1.1. Anàlisis del dataset de les aplicacions"
   ]
  },
  {
   "cell_type": "markdown",
   "metadata": {},
   "source": [
    "#### 1.1.1. Descripció dels atributs\n"
   ]
  },
  {
   "cell_type": "code",
   "execution_count": 144,
   "metadata": {},
   "outputs": [
    {
     "data": {
      "text/html": [
       "<div>\n",
       "<style scoped>\n",
       "    .dataframe tbody tr th:only-of-type {\n",
       "        vertical-align: middle;\n",
       "    }\n",
       "\n",
       "    .dataframe tbody tr th {\n",
       "        vertical-align: top;\n",
       "    }\n",
       "\n",
       "    .dataframe thead th {\n",
       "        text-align: right;\n",
       "    }\n",
       "</style>\n",
       "<table border=\"1\" class=\"dataframe\">\n",
       "  <thead>\n",
       "    <tr style=\"text-align: right;\">\n",
       "      <th></th>\n",
       "      <th>App</th>\n",
       "      <th>Category</th>\n",
       "      <th>Rating</th>\n",
       "      <th>Reviews</th>\n",
       "      <th>Size</th>\n",
       "      <th>Installs</th>\n",
       "      <th>Type</th>\n",
       "      <th>Price</th>\n",
       "      <th>Content Rating</th>\n",
       "      <th>Genres</th>\n",
       "      <th>Last Updated</th>\n",
       "      <th>Current Ver</th>\n",
       "      <th>Android Ver</th>\n",
       "    </tr>\n",
       "  </thead>\n",
       "  <tbody>\n",
       "    <tr>\n",
       "      <th>6762</th>\n",
       "      <td>Black Social</td>\n",
       "      <td>SOCIAL</td>\n",
       "      <td>4.6</td>\n",
       "      <td>22</td>\n",
       "      <td>8.7M</td>\n",
       "      <td>1,000+</td>\n",
       "      <td>Free</td>\n",
       "      <td>0</td>\n",
       "      <td>Teen</td>\n",
       "      <td>Social</td>\n",
       "      <td>August 5, 2018</td>\n",
       "      <td>31.1.4</td>\n",
       "      <td>4.3 and up</td>\n",
       "    </tr>\n",
       "    <tr>\n",
       "      <th>401</th>\n",
       "      <td>Google Allo</td>\n",
       "      <td>COMMUNICATION</td>\n",
       "      <td>4.3</td>\n",
       "      <td>346982</td>\n",
       "      <td>Varies with device</td>\n",
       "      <td>10,000,000+</td>\n",
       "      <td>Free</td>\n",
       "      <td>0</td>\n",
       "      <td>Everyone</td>\n",
       "      <td>Communication</td>\n",
       "      <td>January 23, 2018</td>\n",
       "      <td>Varies with device</td>\n",
       "      <td>4.1 and up</td>\n",
       "    </tr>\n",
       "    <tr>\n",
       "      <th>7420</th>\n",
       "      <td>CJ Camcorder</td>\n",
       "      <td>VIDEO_PLAYERS</td>\n",
       "      <td>4.7</td>\n",
       "      <td>3</td>\n",
       "      <td>2.8M</td>\n",
       "      <td>500+</td>\n",
       "      <td>Free</td>\n",
       "      <td>0</td>\n",
       "      <td>Everyone</td>\n",
       "      <td>Video Players &amp; Editors</td>\n",
       "      <td>November 26, 2017</td>\n",
       "      <td>1.0</td>\n",
       "      <td>4.0 and up</td>\n",
       "    </tr>\n",
       "    <tr>\n",
       "      <th>1631</th>\n",
       "      <td>Scarf Fashion Designer</td>\n",
       "      <td>LIFESTYLE</td>\n",
       "      <td>4.4</td>\n",
       "      <td>16637</td>\n",
       "      <td>10M</td>\n",
       "      <td>1,000,000+</td>\n",
       "      <td>Free</td>\n",
       "      <td>0</td>\n",
       "      <td>Everyone</td>\n",
       "      <td>Lifestyle</td>\n",
       "      <td>June 18, 2017</td>\n",
       "      <td>1.8</td>\n",
       "      <td>2.3 and up</td>\n",
       "    </tr>\n",
       "    <tr>\n",
       "      <th>6475</th>\n",
       "      <td>iFORA BM</td>\n",
       "      <td>MEDICAL</td>\n",
       "      <td>NaN</td>\n",
       "      <td>3</td>\n",
       "      <td>10M</td>\n",
       "      <td>100+</td>\n",
       "      <td>Free</td>\n",
       "      <td>0</td>\n",
       "      <td>Everyone</td>\n",
       "      <td>Medical</td>\n",
       "      <td>April 9, 2018</td>\n",
       "      <td>1.0.8</td>\n",
       "      <td>4.3 and up</td>\n",
       "    </tr>\n",
       "  </tbody>\n",
       "</table>\n",
       "</div>"
      ],
      "text/plain": [
       "                         App       Category  Rating Reviews  \\\n",
       "6762            Black Social         SOCIAL     4.6      22   \n",
       "401              Google Allo  COMMUNICATION     4.3  346982   \n",
       "7420            CJ Camcorder  VIDEO_PLAYERS     4.7       3   \n",
       "1631  Scarf Fashion Designer      LIFESTYLE     4.4   16637   \n",
       "6475                iFORA BM        MEDICAL     NaN       3   \n",
       "\n",
       "                    Size     Installs  Type Price Content Rating  \\\n",
       "6762                8.7M       1,000+  Free     0           Teen   \n",
       "401   Varies with device  10,000,000+  Free     0       Everyone   \n",
       "7420                2.8M         500+  Free     0       Everyone   \n",
       "1631                 10M   1,000,000+  Free     0       Everyone   \n",
       "6475                 10M         100+  Free     0       Everyone   \n",
       "\n",
       "                       Genres       Last Updated         Current Ver  \\\n",
       "6762                   Social     August 5, 2018              31.1.4   \n",
       "401             Communication   January 23, 2018  Varies with device   \n",
       "7420  Video Players & Editors  November 26, 2017                 1.0   \n",
       "1631                Lifestyle      June 18, 2017                 1.8   \n",
       "6475                  Medical      April 9, 2018               1.0.8   \n",
       "\n",
       "     Android Ver  \n",
       "6762  4.3 and up  \n",
       "401   4.1 and up  \n",
       "7420  4.0 and up  \n",
       "1631  2.3 and up  \n",
       "6475  4.3 and up  "
      ]
     },
     "execution_count": 144,
     "metadata": {},
     "output_type": "execute_result"
    }
   ],
   "source": [
    "apps_data = pd.read_csv(\"data/aplicacions.csv\")\n",
    "train_data, test_data = train_test_split(apps_data, test_size=0.2, random_state=42)\n",
    "train_data.head()"
   ]
  },
  {
   "cell_type": "code",
   "execution_count": 145,
   "metadata": {},
   "outputs": [
    {
     "name": "stdout",
     "output_type": "stream",
     "text": [
      "El nombre de mostres que tenim a la base de dades és de 8672\n",
      "El nombre de atributs que tenim a la base de dades és de 13\n"
     ]
    }
   ],
   "source": [
    "print(\"El nombre de mostres que tenim a la base de dades és de\", train_data.shape[0])\n",
    "print(\"El nombre de atributs que tenim a la base de dades és de\", train_data.shape[1])"
   ]
  },
  {
   "cell_type": "markdown",
   "metadata": {},
   "source": [
    "Es pot veure que disposem de 13 atributs diferents amb un total de 10841 mostres, que utilitzarem per entrenar el nostre model i predir la variable objectiu. A continuació, es descriuran els atributs, explicant tant el seu significat com el tipus de dades que contenen.\n"
   ]
  },
  {
   "cell_type": "code",
   "execution_count": 146,
   "metadata": {},
   "outputs": [
    {
     "name": "stdout",
     "output_type": "stream",
     "text": [
      "Informació de cada atribut:\n",
      "<class 'pandas.core.frame.DataFrame'>\n",
      "Index: 8672 entries, 6762 to 7270\n",
      "Data columns (total 13 columns):\n",
      " #   Column          Non-Null Count  Dtype  \n",
      "---  ------          --------------  -----  \n",
      " 0   App             8672 non-null   object \n",
      " 1   Category        8672 non-null   object \n",
      " 2   Rating          7495 non-null   float64\n",
      " 3   Reviews         8672 non-null   object \n",
      " 4   Size            8672 non-null   object \n",
      " 5   Installs        8672 non-null   object \n",
      " 6   Type            8671 non-null   object \n",
      " 7   Price           8672 non-null   object \n",
      " 8   Content Rating  8671 non-null   object \n",
      " 9   Genres          8672 non-null   object \n",
      " 10  Last Updated    8672 non-null   object \n",
      " 11  Current Ver     8665 non-null   object \n",
      " 12  Android Ver     8669 non-null   object \n",
      "dtypes: float64(1), object(12)\n",
      "memory usage: 948.5+ KB\n",
      "None\n"
     ]
    }
   ],
   "source": [
    "print(\"Informació de cada atribut:\")\n",
    "print(train_data.info())"
   ]
  },
  {
   "cell_type": "markdown",
   "metadata": {},
   "source": [
    "La base de dades conté 13 atributs on es descriu les característiques de cada aplicació. A continuació es fa una breu descripció de cada *feature*:"
   ]
  },
  {
   "cell_type": "markdown",
   "metadata": {},
   "source": [
    "- **App (Objecte):** Nom de l'aplicació.  \n",
    "- **Category (Objecte):** Categoria de l'aplicació.  \n",
    "- **Rating (Float64):** Valoració mitjana de l'aplicació (valor de 1 a 5).  \n",
    "- **Reviews (Objecte):** Nombre de ressenyes que té l'aplicació. \n",
    "- **Size (Objecte):** Mida de l'aplicació. Pot incloure unitats de mesura com 'M' o 'k'. Si la mida depèn del dispositiu s'utilitza l'expressió \"Varies with devices\".\n",
    "- **Installs (Objecte):** Nombre de descargues de l'aplicació. (Inclou el caràcter +)\n",
    "- **Type (Objecte):** Si l'aplicació és gratuïta o de pagament.  \n",
    "- **Content Rating (Objecte):** Classificació per contingut (per exemple, \"Tots els públics\", \"Adolescents\", etc.).  \n",
    "- **Genres (Objecte):** Gèneres de l'aplicació (com \"Acció\", \"Educació\", etc.).  \n",
    "- **Last Updated (Objecte):** La data de l'última actualització de l'aplicació. Es presenta en el format \"MMMM DD, YYYY\".\n",
    "- **Price (Objecte):** El preu de l'aplicació (si és de pagament). S'inclou el símbol '$', indicant que el preu esta en dòlars. \n",
    "- **Current Ver (Objecte):** Versió actual de l'aplicació.  \n",
    "- **Android Ver (Objecte):** Versió d'Android compatible amb l'aplicació.\n",
    "\n"
   ]
  },
  {
   "cell_type": "markdown",
   "metadata": {},
   "source": [
    "#### 1.1.2. Detecció de valors nuls"
   ]
  },
  {
   "cell_type": "markdown",
   "metadata": {},
   "source": [
    "En aquest apartat, analitzarem en detall els valors nuls del dataset.\n"
   ]
  },
  {
   "cell_type": "code",
   "execution_count": 147,
   "metadata": {},
   "outputs": [
    {
     "name": "stdout",
     "output_type": "stream",
     "text": [
      "Rating            1177\n",
      "Type                 1\n",
      "Content Rating       1\n",
      "Current Ver          7\n",
      "Android Ver          3\n",
      "dtype: int64\n"
     ]
    }
   ],
   "source": [
    "print(train_data.isnull().sum()[train_data.isnull().sum() > 0])"
   ]
  },
  {
   "cell_type": "markdown",
   "metadata": {},
   "source": [
    "Podem observar la aparició de valors nuls en els atributs següents: *Rating*, *Current Ver*, *Android Ver* i *Type*. D'aquests atributs el més significatiu és el *Rating*.\\\n",
    "A continuació, el que farem és imprimir algunes files del dataset on el *Rating* tingui un valor nul, per veure si aquestes dades faltants tenen algun significat o son a causa d'algun error. "
   ]
  },
  {
   "cell_type": "code",
   "execution_count": 148,
   "metadata": {},
   "outputs": [
    {
     "name": "stdout",
     "output_type": "stream",
     "text": [
      "                       App        Category  Rating Reviews Size Installs Type Price Content Rating          Genres    Last Updated Current Ver Android Ver\n",
      "                  iFORA BM         MEDICAL     NaN       3  10M     100+ Free     0       Everyone         Medical   April 9, 2018       1.0.8  4.3 and up\n",
      "               EH Autolink        BUSINESS     NaN       1 921k     100+ Free     0       Everyone        Business  March 11, 2016         1.0  3.0 and up\n",
      "Top Themes Volvo FH Trucks PERSONALIZATION     NaN       9  18M   1,000+ Free     0           Teen Personalization   June 19, 2018         1.0  4.1 and up\n",
      "   AX Watch for WatchMaker PERSONALIZATION     NaN       2 238k       1+ Paid $0.99       Everyone Personalization August 18, 2017         1.0  2.3 and up\n",
      "            Valmet CI Tool        BUSINESS     NaN       1 3.7M     500+ Free     0       Everyone        Business  March 13, 2018       0.0.6  4.0 and up\n"
     ]
    }
   ],
   "source": [
    "null_ratings = train_data[train_data['Rating'].isnull()]\n",
    "print(null_ratings.head().to_string(index=False))"
   ]
  },
  {
   "cell_type": "markdown",
   "metadata": {},
   "source": [
    "Com es pot veure, tot indica que els valors nuls de l'atribut *Rating* son errors a la hora de crear el dataset o per una altre raó que desconeixem, ja que les aplicacions que és mostren, el nombre de ressenyes (*reviews*) és major a zero, però tot i així apareix un valor nul en l'atribut *Rating*. "
   ]
  },
  {
   "cell_type": "markdown",
   "metadata": {},
   "source": [
    "#### 1.1.3. Detecció de dades anomals"
   ]
  },
  {
   "cell_type": "markdown",
   "metadata": {},
   "source": [
    "En aquest apartat, comprovarem que alguns atributs del dataset no continguin valors anòmals (outliers) no detectats inicialment, considerant-ne els resultats principalment pel *preprocessing* dels atributs. S'ha de tenir en compte que no considerarem els valors nuls com a valors anomals, ja que els hem tractat anteriorment.\\\n",
    "Començarem verificant els atributs que considera la llibreria Pandas com a numèrics, i posteriorment passarem als categòrics. "
   ]
  },
  {
   "cell_type": "markdown",
   "metadata": {},
   "source": [
    "**1. Atributs numèrics: 🔢** \n",
    "- **Rating:** Verifiquem que no tinguem valors negatius o valors fora del rang [1, 5]."
   ]
  },
  {
   "cell_type": "code",
   "execution_count": 149,
   "metadata": {},
   "outputs": [
    {
     "name": "stdout",
     "output_type": "stream",
     "text": [
      "Rating - Min: 1.0, Max: 19.0\n"
     ]
    }
   ],
   "source": [
    "print(f\"Rating - Min: {train_data['Rating'].min()}, Max: {train_data['Rating'].max()}\")"
   ]
  },
  {
   "cell_type": "markdown",
   "metadata": {},
   "source": [
    "Com podem veure, l'atribut *Rating* té una alta variança. A més, es pot observar que tot i que no tenim valors negatius, ens aparèixen valors fora del rang [1,5]. Per entrar en l'arrel del problema, visualitzarem les files que contenen valors majors a 5 en l'atribut:"
   ]
  },
  {
   "cell_type": "code",
   "execution_count": 150,
   "metadata": {},
   "outputs": [
    {
     "name": "stdout",
     "output_type": "stream",
     "text": [
      "                                    App Category  Rating Reviews   Size Installs Type    Price Content Rating            Genres Last Updated Current Ver Android Ver\n",
      "Life Made WI-Fi Touchscreen Photo Frame      1.9    19.0    3.0M 1,000+     Free    0 Everyone            NaN February 11, 2018       1.0.19  4.0 and up         NaN\n"
     ]
    }
   ],
   "source": [
    "incorrect_ratings = train_data[train_data['Rating'] > 5]\n",
    "print(incorrect_ratings.to_string(index=False))"
   ]
  },
  {
   "cell_type": "markdown",
   "metadata": {},
   "source": [
    "La sortida anterior, ens indica que hi ha una fila on els valors dels atributs no estan correctament assignats. Per exemple, veiem que el nombre de descargues de l'aplicació, que en aquest cas és 1000, no està inserit en l'atribut *Installs* (que és on hauria d'estar), sino en l'atribut *Size*. Amb altres atributs d'aquesta fila ens passa el mateix. Com a cas especial, per no veure el mateix error en les comprovacions següents, corregirem manualment aquesta fila:"
   ]
  },
  {
   "cell_type": "code",
   "execution_count": 151,
   "metadata": {},
   "outputs": [],
   "source": [
    "train_data.loc[10472] = ['Life Made Wi-Fi Touchscreen Photo Frame', 'PHOTOGRAPHY', 1.9, 19.0, '3.0MB', '1,000+', 'Free', \"0\", 'Everyone', 'Photography', 'February 11, 2018', '1.0.19', '4.0 and up']"
   ]
  },
  {
   "cell_type": "markdown",
   "metadata": {},
   "source": [
    "**2. Atributs categòrics: 🏷️** "
   ]
  },
  {
   "cell_type": "markdown",
   "metadata": {},
   "source": [
    "- **Last Updated**: Per aquest atribut, ens assegurarem que les dates segueixin un patró de format bàsic. En aquest cas, que el primer element sigui una paraula per al mes, seguit d’un número per al dia (de 1 o 2 dígits), i un any de quatre dígits. Per aconseguir-ho, ens ajudarem de les expresions regulars. En la sortida imprimirem les dates que no siguin vàlides."
   ]
  },
  {
   "cell_type": "code",
   "execution_count": 152,
   "metadata": {},
   "outputs": [
    {
     "name": "stdout",
     "output_type": "stream",
     "text": [
      "Series([], Name: Last Updated, dtype: object)\n"
     ]
    }
   ],
   "source": [
    "date_pattern = r\"^[A-Za-z]+ \\d{1,2}, \\d{4}$\"\n",
    "invalid_dates = train_data[~train_data[\"Last Updated\"].str.match(date_pattern, na=False)]\n",
    "print(invalid_dates[\"Last Updated\"])"
   ]
  },
  {
   "cell_type": "markdown",
   "metadata": {},
   "source": [
    "Com que la llista és buida, podem dir que les dates contenides en l'atribut tenen un format bàsic vàlid. "
   ]
  },
  {
   "cell_type": "markdown",
   "metadata": {},
   "source": [
    "- **Reviews**, **Installs**, **Price**: Tot i que Pandas ha assignat aquests atributs com a categòrics, per la seva naturaleza els podem considerar com a numèrics. Com s'ha fet per l'atribut *Rating*, agafarem el valor mínim de cada atribut per detectar si tenim valors negatius. Com a casos especials, per a trobar el mínim de l'atribut *Installs* i *Price*, abans haurem d'eliminar algun caràcter present en els seus valors. Per exemple, en l'atribut *Price* ens hi pot aparèixer el caràcter \"$\"."
   ]
  },
  {
   "cell_type": "code",
   "execution_count": 153,
   "metadata": {},
   "outputs": [
    {
     "name": "stdout",
     "output_type": "stream",
     "text": [
      "Reviews - Min: 0.0\n",
      "Installs - Min: 0.0\n",
      "Price - Min: 0.0\n"
     ]
    }
   ],
   "source": [
    "# Convertim \"Reviews\" a numèric sense modificar el dataframe original\n",
    "reviews_summary = pd.to_numeric(train_data[\"Reviews\"], errors='coerce').describe()\n",
    "print(f\"Reviews - Min: {reviews_summary['min']}\")\n",
    "\n",
    "# Eliminem el caràcter \"+\" dels valors de \"Installs\" sense modificar l'original\n",
    "installs_cleaned = train_data[\"Installs\"].str.replace('+', '', regex=False)\n",
    "installs_summary = pd.to_numeric(installs_cleaned, errors='coerce').describe()\n",
    "print(f\"Installs - Min: {installs_summary['min']}\")\n",
    "\n",
    "# Eliminem el caràcter \"$\" dels valors de \"Price\" sense modificar l'original\n",
    "price_cleaned = train_data[\"Price\"].str.replace('$', '', regex=False)\n",
    "price_summary = pd.to_numeric(price_cleaned, errors='coerce').describe()\n",
    "print(f\"Price - Min: {price_summary['min']}\")"
   ]
  },
  {
   "cell_type": "markdown",
   "metadata": {},
   "source": [
    "Com que el valor mínim per cada atribut és 0, podem dir que no hi tenim valors negatius. "
   ]
  },
  {
   "cell_type": "markdown",
   "metadata": {},
   "source": [
    "- **Type**, **Content Rating**, **Category**, **Genres**: Realitzarem una revisió manual per assegurar-nos que hi hagi categories coherents per a cada atribut."
   ]
  },
  {
   "cell_type": "code",
   "execution_count": 154,
   "metadata": {},
   "outputs": [
    {
     "name": "stdout",
     "output_type": "stream",
     "text": [
      "Type\n",
      "['Free' 'Paid' nan]\n",
      "\n",
      "Content Rating\n",
      "['Teen' 'Everyone' 'Everyone 10+' 'Mature 17+' 'Adults only 18+' 'Unrated']\n",
      "\n",
      "Category\n",
      "['SOCIAL' 'COMMUNICATION' 'VIDEO_PLAYERS' 'LIFESTYLE' 'MEDICAL' 'BUSINESS'\n",
      " 'GAME' 'FAMILY' 'PERSONALIZATION' 'HOUSE_AND_HOME' 'TRAVEL_AND_LOCAL'\n",
      " 'TOOLS' 'NEWS_AND_MAGAZINES' 'WEATHER' 'HEALTH_AND_FITNESS' 'EDUCATION'\n",
      " 'PRODUCTIVITY' 'PHOTOGRAPHY' 'BEAUTY' 'SPORTS' 'SHOPPING' 'EVENTS'\n",
      " 'PARENTING' 'DATING' 'BOOKS_AND_REFERENCE' 'FINANCE'\n",
      " 'MAPS_AND_NAVIGATION' 'ENTERTAINMENT' 'LIBRARIES_AND_DEMO'\n",
      " 'FOOD_AND_DRINK' 'ART_AND_DESIGN' 'COMICS' 'AUTO_AND_VEHICLES']\n",
      "\n",
      "Genres\n",
      "['Social' 'Communication' 'Video Players & Editors' 'Lifestyle' 'Medical'\n",
      " 'Business' 'Music' 'Adventure' 'Entertainment' 'Personalization' 'Action'\n",
      " 'House & Home' 'Educational;Brain Games' 'Travel & Local' 'Tools'\n",
      " 'News & Magazines' 'Weather' 'Health & Fitness' 'Education'\n",
      " 'Simulation;Action & Adventure' 'Puzzle' 'Productivity' 'Casual'\n",
      " 'Photography' 'Beauty' 'Sports' 'Shopping' 'Board;Brain Games' 'Events'\n",
      " 'Parenting' 'Dating' 'Strategy' 'Books & Reference' 'Finance'\n",
      " 'Maps & Navigation' 'Entertainment;Creativity' 'Libraries & Demo'\n",
      " 'Food & Drink' 'Racing' 'Simulation' 'Arcade' 'Art & Design' 'Card'\n",
      " 'Puzzle;Brain Games' 'Trivia' 'Education;Creativity' 'Role Playing'\n",
      " 'Education;Education' 'Educational' 'Casual;Pretend Play' 'Casino'\n",
      " 'Comics' 'Word' 'Casual;Action & Adventure' 'Education;Brain Games'\n",
      " 'Strategy;Education' 'Board' 'Casual;Brain Games'\n",
      " 'Board;Action & Adventure' 'Auto & Vehicles' 'Adventure;Brain Games'\n",
      " 'Action;Action & Adventure' 'Casual;Creativity' 'Educational;Creativity'\n",
      " 'Entertainment;Action & Adventure' 'Educational;Education'\n",
      " 'Video Players & Editors;Music & Video' 'Educational;Pretend Play'\n",
      " 'Entertainment;Brain Games' 'Puzzle;Action & Adventure'\n",
      " 'Sports;Action & Adventure' 'Racing;Action & Adventure'\n",
      " 'Art & Design;Action & Adventure' 'Role Playing;Pretend Play'\n",
      " 'Simulation;Pretend Play' 'Card;Brain Games' 'Casual;Education'\n",
      " 'Educational;Action & Adventure' 'Lifestyle;Education'\n",
      " 'Books & Reference;Education' 'Music & Audio;Music & Video'\n",
      " 'Adventure;Action & Adventure' 'Role Playing;Action & Adventure'\n",
      " 'Parenting;Brain Games' 'Puzzle;Creativity' 'Arcade;Action & Adventure'\n",
      " 'Entertainment;Music & Video' 'Lifestyle;Pretend Play' 'Puzzle;Education'\n",
      " 'Art & Design;Creativity' 'Parenting;Education'\n",
      " 'Entertainment;Pretend Play' 'Parenting;Music & Video'\n",
      " 'Simulation;Education' 'Card;Action & Adventure' 'Education;Pretend Play'\n",
      " 'Role Playing;Education' 'Education;Action & Adventure'\n",
      " 'Adventure;Education' 'Role Playing;Brain Games'\n",
      " 'Health & Fitness;Action & Adventure' 'Racing;Pretend Play'\n",
      " 'Education;Music & Video' 'Board;Pretend Play'\n",
      " 'Travel & Local;Action & Adventure' 'Video Players & Editors;Creativity'\n",
      " 'Art & Design;Pretend Play' 'Strategy;Action & Adventure'\n",
      " 'Music;Music & Video' 'Communication;Creativity' 'Casual;Music & Video'\n",
      " 'Comics;Creativity' 'Books & Reference;Creativity']\n",
      "\n"
     ]
    }
   ],
   "source": [
    "print(\"Type\")\n",
    "print(train_data[\"Type\"].unique())\n",
    "print()\n",
    "\n",
    "print(\"Content Rating\")\n",
    "print(train_data[\"Content Rating\"].unique())\n",
    "print()\n",
    "\n",
    "print(\"Category\")\n",
    "print(train_data[\"Category\"].unique())\n",
    "print()\n",
    "\n",
    "print(\"Genres\")\n",
    "print(train_data[\"Genres\"].unique())\n",
    "print()"
   ]
  },
  {
   "cell_type": "markdown",
   "metadata": {},
   "source": [
    "Segons la sortida anterior, podem veure que tenim categories coherents amb la temàtica del dataset, sense trobar ningun valor anomal. "
   ]
  },
  {
   "cell_type": "markdown",
   "metadata": {},
   "source": [
    "- **Android Ver**: A continuació, analitzarem els possibles valors únics que conté l'atribut, com també la freqüència d'aquests. "
   ]
  },
  {
   "cell_type": "code",
   "execution_count": 155,
   "metadata": {},
   "outputs": [
    {
     "data": {
      "image/png": "[encoded data removed]",
      "text/plain": [
       "<Figure size 1200x600 with 1 Axes>"
      ]
     },
     "metadata": {},
     "output_type": "display_data"
    }
   ],
   "source": [
    "rcParams['figure.figsize'] = 12, 8\n",
    "\n",
    "plt.figure(figsize=(12, 6))\n",
    "sns.countplot(data=train_data, x='Android Ver', palette=\"viridis\", order=train_data['Android Ver'].value_counts().index)\n",
    "plt.title('Distribució de Android Ver', size=16)\n",
    "plt.xlabel('Android Ver', size=14)\n",
    "plt.ylabel('Frequència', size=14)\n",
    "plt.xticks(rotation=90)  \n",
    "plt.show()"
   ]
  },
  {
   "cell_type": "markdown",
   "metadata": {},
   "source": [
    "Com podem veure, la versió \"4.1\" és la que apareix més sovint. Els valors d'aquest atribut inclouen versions que indiquen una versió mínima seguida de \"and up\" (com \"4.1 and up\"), altres que es troben dins d'un interval, i alguns casos on la versió depèn del dispositiu representat amb l'etiqueta *Varies with device*. Aquestes observacions es tindran en compte a l'hora de codificar aquest atribut."
   ]
  },
  {
   "cell_type": "markdown",
   "metadata": {},
   "source": [
    "- **Current Ver**: A continuació, analitzarem els possibles valors únics que conté l'atribut, com també la freqüència d'aquests. "
   ]
  },
  {
   "cell_type": "code",
   "execution_count": 156,
   "metadata": {},
   "outputs": [
    {
     "data": {
      "image/png": "[encoded data removed]",
      "text/plain": [
       "<Figure size 1800x600 with 1 Axes>"
      ]
     },
     "metadata": {},
     "output_type": "display_data"
    }
   ],
   "source": [
    "top_values = train_data['Current Ver'].value_counts().head(70).index\n",
    "\n",
    "# Crear el gráfico de distribución\n",
    "plt.figure(figsize=(18, 6))\n",
    "sns.countplot(data=train_data, x='Current Ver', palette=\"viridis\", order=top_values)\n",
    "plt.title('Distribució de Current Ver', size=16)\n",
    "plt.xlabel('Current Ver', size=14)\n",
    "plt.ylabel('Frequència', size=14)\n",
    "plt.xticks(rotation=90)  \n",
    "plt.tight_layout()  \n",
    "plt.show()"
   ]
  },
  {
   "cell_type": "markdown",
   "metadata": {},
   "source": [
    "En aquest atribut, hem graficat 70 valors únics per qüestions d'espai. Com en el cas anterior, observem que un dels valors possibles és l'etiqueta *Varies with device*, que en aquest cas és el més freqüent. A més, no s'identifica valors atípics (outliers) en aquesta distribució."
   ]
  },
  {
   "cell_type": "markdown",
   "metadata": {},
   "source": [
    "### 1.2. Anàlisis del dataset de les ressenyes"
   ]
  },
  {
   "cell_type": "markdown",
   "metadata": {},
   "source": [
    "#### 1.2.1. Descripció dels atributs"
   ]
  },
  {
   "cell_type": "code",
   "execution_count": 157,
   "metadata": {},
   "outputs": [
    {
     "data": {
      "text/html": [
       "<div>\n",
       "<style scoped>\n",
       "    .dataframe tbody tr th:only-of-type {\n",
       "        vertical-align: middle;\n",
       "    }\n",
       "\n",
       "    .dataframe tbody tr th {\n",
       "        vertical-align: top;\n",
       "    }\n",
       "\n",
       "    .dataframe thead th {\n",
       "        text-align: right;\n",
       "    }\n",
       "</style>\n",
       "<table border=\"1\" class=\"dataframe\">\n",
       "  <thead>\n",
       "    <tr style=\"text-align: right;\">\n",
       "      <th></th>\n",
       "      <th>App</th>\n",
       "      <th>Translated_Review</th>\n",
       "      <th>Sentiment</th>\n",
       "      <th>Sentiment_Polarity</th>\n",
       "      <th>Sentiment_Subjectivity</th>\n",
       "    </tr>\n",
       "  </thead>\n",
       "  <tbody>\n",
       "    <tr>\n",
       "      <th>60632</th>\n",
       "      <td>Health and Nutrition Guide</td>\n",
       "      <td>The facts correct I'm seeing anything except f...</td>\n",
       "      <td>Neutral</td>\n",
       "      <td>0.0</td>\n",
       "      <td>0.0</td>\n",
       "    </tr>\n",
       "    <tr>\n",
       "      <th>40286</th>\n",
       "      <td>Entel</td>\n",
       "      <td>I would like to know where I can redeem my ent...</td>\n",
       "      <td>Neutral</td>\n",
       "      <td>0.0</td>\n",
       "      <td>0.0</td>\n",
       "    </tr>\n",
       "    <tr>\n",
       "      <th>50243</th>\n",
       "      <td>Fruit Boom</td>\n",
       "      <td>NaN</td>\n",
       "      <td>NaN</td>\n",
       "      <td>NaN</td>\n",
       "      <td>NaN</td>\n",
       "    </tr>\n",
       "    <tr>\n",
       "      <th>46991</th>\n",
       "      <td>Flights</td>\n",
       "      <td>Poser- I mislead thinking Google Flights app. ...</td>\n",
       "      <td>Neutral</td>\n",
       "      <td>0.0</td>\n",
       "      <td>0.0</td>\n",
       "    </tr>\n",
       "    <tr>\n",
       "      <th>14217</th>\n",
       "      <td>Best New Ringtones 2018 Free 🔥 For Android™</td>\n",
       "      <td>NaN</td>\n",
       "      <td>NaN</td>\n",
       "      <td>NaN</td>\n",
       "      <td>NaN</td>\n",
       "    </tr>\n",
       "  </tbody>\n",
       "</table>\n",
       "</div>"
      ],
      "text/plain": [
       "                                               App  \\\n",
       "60632                   Health and Nutrition Guide   \n",
       "40286                                        Entel   \n",
       "50243                                   Fruit Boom   \n",
       "46991                                      Flights   \n",
       "14217  Best New Ringtones 2018 Free 🔥 For Android™   \n",
       "\n",
       "                                       Translated_Review Sentiment  \\\n",
       "60632  The facts correct I'm seeing anything except f...   Neutral   \n",
       "40286  I would like to know where I can redeem my ent...   Neutral   \n",
       "50243                                                NaN       NaN   \n",
       "46991  Poser- I mislead thinking Google Flights app. ...   Neutral   \n",
       "14217                                                NaN       NaN   \n",
       "\n",
       "       Sentiment_Polarity  Sentiment_Subjectivity  \n",
       "60632                 0.0                     0.0  \n",
       "40286                 0.0                     0.0  \n",
       "50243                 NaN                     NaN  \n",
       "46991                 0.0                     0.0  \n",
       "14217                 NaN                     NaN  "
      ]
     },
     "execution_count": 157,
     "metadata": {},
     "output_type": "execute_result"
    }
   ],
   "source": [
    "reviews_data = pd.read_csv(\"data/ressenyes.csv\")\n",
    "reviews_train_data, reviews_test_data = train_test_split(reviews_data, test_size=0.2, random_state=42)\n",
    "reviews_train_data.head()"
   ]
  },
  {
   "cell_type": "code",
   "execution_count": 158,
   "metadata": {},
   "outputs": [
    {
     "name": "stdout",
     "output_type": "stream",
     "text": [
      "El nombre de mostres que tenim a la base de dades és de 51436\n",
      "El nombre de atributs que tenim a la base de dades és de 5\n"
     ]
    }
   ],
   "source": [
    "print(\"El nombre de mostres que tenim a la base de dades és de\", reviews_train_data.shape[0])\n",
    "print(\"El nombre de atributs que tenim a la base de dades és de\", reviews_train_data.shape[1])"
   ]
  },
  {
   "cell_type": "markdown",
   "metadata": {},
   "source": [
    "Es pot veure que disposem de 5 atributs diferents amb un total de 64295 mostres, que utilitzarem per entrenar el nostre model i predir la variable objectiu. A continuació, analitzarem detalladament cada atribut per entendre millor el seu significat i la seva possible influència en la predicció del nombre de descàrregues d'una aplicació.\n"
   ]
  },
  {
   "cell_type": "code",
   "execution_count": 159,
   "metadata": {},
   "outputs": [
    {
     "name": "stdout",
     "output_type": "stream",
     "text": [
      "Informació de cada atribut:\n",
      "<class 'pandas.core.frame.DataFrame'>\n",
      "Index: 51436 entries, 60632 to 56422\n",
      "Data columns (total 5 columns):\n",
      " #   Column                  Non-Null Count  Dtype  \n",
      "---  ------                  --------------  -----  \n",
      " 0   App                     51436 non-null  object \n",
      " 1   Translated_Review       29925 non-null  object \n",
      " 2   Sentiment               29929 non-null  object \n",
      " 3   Sentiment_Polarity      29929 non-null  float64\n",
      " 4   Sentiment_Subjectivity  29929 non-null  float64\n",
      "dtypes: float64(2), object(3)\n",
      "memory usage: 2.4+ MB\n",
      "None\n"
     ]
    }
   ],
   "source": [
    "print(\"Informació de cada atribut:\")\n",
    "print(reviews_train_data.info())"
   ]
  },
  {
   "cell_type": "markdown",
   "metadata": {},
   "source": [
    "El conjunt de dades conté 5 atributs on es descriu les característiques de reviews de cada aplicació. A continuació es fa una breu descripció de cada *feature*:"
   ]
  },
  {
   "cell_type": "markdown",
   "metadata": {},
   "source": [
    "- **App (Objecte):** Nom de l'aplicació a la qual pertany la ressenya. Ens serveix com enllaç del dataset anterior. \n",
    "- **Translated_Review (Objecte):** Comentari de l'usuari de l'aplicació traduït a l'anglès. Pot contenir valors nuls si no hi ha comentari. \n",
    "- **Sentiment (Objecte):** Categoria del sentiment expressat en el comentari de l'usuari (per exemple, \"Positiu\", \"Negatiu\" o \"Neutral\").  \n",
    "- **Sentiment_Polarity (Float64):** Mesura de polaritat del sentiment del comentari de l'usuari, amb valors entre -1 (molt negatiu) i 1 (molt positiu).  \n",
    "- **Sentiment_Subjectivity (Float64):** Mesura de subjectivitat del comentari de l'usuari, amb valors entre 0 (totalment objectiu) i 1 (totalment subjectiu). "
   ]
  },
  {
   "cell_type": "markdown",
   "metadata": {},
   "source": [
    "#### 1.2.2. Detecció de valors nuls"
   ]
  },
  {
   "cell_type": "markdown",
   "metadata": {},
   "source": [
    "Segons la sortida anterior podem veura una gran quantitat de valors nuls en les característiques, excepte l'atribut *App*. Anem a veure la distribució per cada atribut:"
   ]
  },
  {
   "cell_type": "code",
   "execution_count": 160,
   "metadata": {},
   "outputs": [
    {
     "data": {
      "image/png": "[encoded data removed]",
      "text/plain": [
       "<Figure size 2500x1000 with 2 Axes>"
      ]
     },
     "metadata": {},
     "output_type": "display_data"
    }
   ],
   "source": [
    "msno.matrix(reviews_train_data)\n",
    "plt.show()"
   ]
  },
  {
   "cell_type": "markdown",
   "metadata": {},
   "source": [
    "Com podem observar, hi ha una forta dependència entre els atributs *Translated_Review*, *Sentiment*, *Sentiment_Polarity* i *Sentiment_Subjectivity* pel que fa als valors nuls. Entenem que la causa de tot això és l'atribut *Translated_Review*, ja que l'ànalisi del sentiment requereix que l'usuari hagi escrit un text per a la seva ressenya. Podem concloure, que els valors nuls en aquest cas tenen un significat concret."
   ]
  },
  {
   "cell_type": "markdown",
   "metadata": {},
   "source": [
    "Per entrar més en detall, crearem un gràfic que mostri el percentatge de valors nuls en els comentaris de cada aplicació, en funció del nombre total de comentaris de cada una."
   ]
  },
  {
   "cell_type": "code",
   "execution_count": 161,
   "metadata": {},
   "outputs": [
    {
     "data": {
      "image/png": "[encoded data removed]",
      "text/plain": [
       "<Figure size 1600x600 with 1 Axes>"
      ]
     },
     "metadata": {},
     "output_type": "display_data"
    }
   ],
   "source": [
    "grouped_data = reviews_train_data.groupby('App')\n",
    "nans_in_reviews = grouped_data['Translated_Review'].agg(lambda x: x.isna().sum())\n",
    "total_reviews = grouped_data['Translated_Review'].count() + nans_in_reviews\n",
    "nan_percentage = (nans_in_reviews / total_reviews) * 100\n",
    "\n",
    "plt.figure(figsize=(16, 6)) \n",
    "nan_percentage.plot(kind='bar', color='skyblue')\n",
    "plt.title('Percentatge de valors nuls en els comentaris per aplicació')\n",
    "plt.xlabel('Index d\\'Aplicació')\n",
    "plt.ylabel('Percentatge de comentaris nules (%)')\n",
    "plt.xticks([])  \n",
    "\n",
    "plt.subplots_adjust(left=0.05, right=0.95) \n",
    "plt.tight_layout()\n",
    "plt.show()"
   ]
  },
  {
   "cell_type": "markdown",
   "metadata": {},
   "source": [
    "Segons el gràfic, podem observar que una gran majoria d'aplicacions no contenen comentaris. Per quantificar-ho millor, a continuació calcularem el percentatge d'aplicacions que no contenen comentaris segons el total d'aplicacions en el dataset *reviews*:"
   ]
  },
  {
   "cell_type": "code",
   "execution_count": 162,
   "metadata": {},
   "outputs": [
    {
     "name": "stdout",
     "output_type": "stream",
     "text": [
      "Percentatge d'aplicacions sense ressenyes: 20.02%\n"
     ]
    }
   ],
   "source": [
    "aplicacions_sense_resenyes = (nan_percentage == 100).sum()\n",
    "total_aplicacions = len(nan_percentage)\n",
    "percentatge_sense_resenyes = (aplicacions_sense_resenyes / total_aplicacions) * 100\n",
    "percentatge_sense_resenyes = round(percentatge_sense_resenyes, 2)\n",
    "print(f'Percentatge d\\'aplicacions sense ressenyes: {percentatge_sense_resenyes}%')"
   ]
  },
  {
   "cell_type": "markdown",
   "metadata": {},
   "source": [
    "Segons el càlcul anterior, el 19% d'aplicacions no contenen comentaris."
   ]
  },
  {
   "cell_type": "markdown",
   "metadata": {},
   "source": [
    "#### 1.2.3. Detecció de dades anomals"
   ]
  },
  {
   "cell_type": "markdown",
   "metadata": {},
   "source": [
    "Com en el dataset *apps* comprovarem que els atributs no tinguin valors anòmals (*outliers*) que no hàgim detectat a primera vista. Començarem verificant els atributs categòrics, i posteriorment passarem als numèrics.  "
   ]
  },
  {
   "cell_type": "markdown",
   "metadata": {},
   "source": [
    "**1. Atributs categòrics: 🏷️** "
   ]
  },
  {
   "cell_type": "markdown",
   "metadata": {},
   "source": [
    "- **App:** Comprovarem que tot nom d'aplicació del dataset *reviews* estigui present en el conjunt de dades *apps*. En percentatge expressarem el nombre d'aplicacions del dataset *reviews* que no estiguin present en el dataset *apps*. "
   ]
  },
  {
   "cell_type": "code",
   "execution_count": 163,
   "metadata": {},
   "outputs": [
    {
     "name": "stdout",
     "output_type": "stream",
     "text": [
      "88.97%\n"
     ]
    }
   ],
   "source": [
    "apps_set = set(train_data['App'])\n",
    "reviews_set = set(reviews_train_data['App'])\n",
    "missing_apps = apps_set - reviews_set\n",
    "missing_apps_count = len(missing_apps)\n",
    "print(f\"{(missing_apps_count / len(apps_set)) * 100:.2f}%\")\n"
   ]
  },
  {
   "cell_type": "markdown",
   "metadata": {},
   "source": [
    "Segons el resultat anterior, podem veure que hi han aplicacions en el dataset *ressenyes* que no estan contingudes en el dataset *apps*, concretament un 89%.\n"
   ]
  },
  {
   "cell_type": "markdown",
   "metadata": {},
   "source": [
    "- **Sentiment:** Verificarem que no tinguem una categoria anomala, o una categoria que no s'hagi contemplat a primera vista."
   ]
  },
  {
   "cell_type": "code",
   "execution_count": 164,
   "metadata": {},
   "outputs": [
    {
     "name": "stdout",
     "output_type": "stream",
     "text": [
      "Sentiment\n",
      "Positive    19267\n",
      "Negative     6581\n",
      "Neutral      4081\n",
      "Name: count, dtype: int64\n"
     ]
    }
   ],
   "source": [
    "sentiment_counts = reviews_train_data['Sentiment'].value_counts()\n",
    "print(sentiment_counts)"
   ]
  },
  {
   "cell_type": "markdown",
   "metadata": {},
   "source": [
    "En aquest cas tenim les categories Positive, Negative i Neutral. No s'observa ningun cas extrany. "
   ]
  },
  {
   "cell_type": "markdown",
   "metadata": {},
   "source": [
    "**1. Atributs numèrics: 🔢** \n",
    "- **Sentiment_Polarity, Sentiment_Subjectivity:** Verificarem que no tinguem presents valors fora de rang dels respectius atributs. "
   ]
  },
  {
   "cell_type": "code",
   "execution_count": 165,
   "metadata": {},
   "outputs": [
    {
     "name": "stdout",
     "output_type": "stream",
     "text": [
      "Sentiment_Polarity - Min: -1.0, Max: 1.0\n",
      "Sentiment_Subjectivity - Min: 0.0, Max: 1.0\n"
     ]
    }
   ],
   "source": [
    "polarity_summary = reviews_train_data['Sentiment_Polarity'].describe()\n",
    "subjectivity_summary = reviews_train_data['Sentiment_Subjectivity'].describe()\n",
    "\n",
    "print(f\"Sentiment_Polarity - Min: {polarity_summary['min']}, Max: {polarity_summary['max']}\")\n",
    "print(f\"Sentiment_Subjectivity - Min: {subjectivity_summary['min']}, Max: {subjectivity_summary['max']}\")"
   ]
  },
  {
   "cell_type": "markdown",
   "metadata": {},
   "source": [
    "Podem comprovar pels dos atributs, que no ens apareix ningun valor fora de rang"
   ]
  },
  {
   "cell_type": "markdown",
   "metadata": {},
   "source": [
    "#### 1.2.4. Correlació d'atributs"
   ]
  },
  {
   "cell_type": "markdown",
   "metadata": {},
   "source": [
    "En aquesta secció, veurem com de correlacionats estan els atributs numèrics del dataset *reviews* amb relació al atribut objectiu, com s'ha dit, el nombre de descargues d'una aplicació. Per aconseguir-ho, calcularem la mitjana del *Sentiment_Polarity* i el *Sentiment_Subjectivity* per cada aplicació."
   ]
  },
  {
   "cell_type": "code",
   "execution_count": 166,
   "metadata": {},
   "outputs": [
    {
     "data": {
      "image/png": "[encoded data removed]",
      "text/plain": [
       "<Figure size 1200x800 with 2 Axes>"
      ]
     },
     "metadata": {},
     "output_type": "display_data"
    }
   ],
   "source": [
    "train_data_temp = train_data[['App', 'Installs']].copy()\n",
    "train_data_temp['Installs'] = train_data_temp['Installs'].replace({',': '', r'\\+': ''}, regex=True).astype(int)\n",
    "\n",
    "reviews_train_data = reviews_train_data.dropna(subset=['Sentiment_Polarity', 'Sentiment_Subjectivity'])\n",
    "\n",
    "reviews_grouped = reviews_train_data.groupby('App', as_index=False).agg({\n",
    "    'Sentiment_Polarity': 'mean',\n",
    "    'Sentiment_Subjectivity': 'mean'\n",
    "})\n",
    "\n",
    "merged_data = pd.merge(train_data_temp, reviews_grouped, on='App', how='inner')\n",
    "\n",
    "corr_matrix = merged_data.drop(columns=['App']).corr()\n",
    "sns.heatmap(corr_matrix, annot=True, cmap='coolwarm')\n",
    "plt.title('Matriu de correlació')\n",
    "plt.show()\n"
   ]
  },
  {
   "cell_type": "markdown",
   "metadata": {},
   "source": [
    "Podem veure que l'atribut *Sentiment_Subjectivity* no té practicament ninguna correlació amb el nombre de descargues. En canvi, per l'atribut *Sentiment_Polarity* té una correlació més alta, concretament del 27%. "
   ]
  },
  {
   "cell_type": "markdown",
   "metadata": {},
   "source": [
    "## 2. Preprocessing "
   ]
  },
  {
   "cell_type": "markdown",
   "metadata": {},
   "source": [
    "En aquest apartat, es duran a terme tres etapes per preparar els atributs: tractament dels valors nuls, codificació de les variables categòriques i normalització dels valors numèrics. A més, crearem nous atributs que milloraran la capacitat del model per identificar patrons. "
   ]
  },
  {
   "cell_type": "markdown",
   "metadata": {},
   "source": [
    "### 2.1. Tractament de valors nuls"
   ]
  },
  {
   "cell_type": "markdown",
   "metadata": {},
   "source": [
    "En aquest apartat, tractarem els valors nuls que ens apareixen en el dataset. Com s'ha vist en la detecció de valors nuls, ens apareixen valors nuls principalment en l'atribut *Rating*, seguidament dels atributs *Current Ver*, *Android Ver* i *Type*. Com a recordatori, a continuació s'imprimeix el nombre de valors nuls dels atributs esmentats:"
   ]
  },
  {
   "cell_type": "code",
   "execution_count": 167,
   "metadata": {},
   "outputs": [
    {
     "name": "stdout",
     "output_type": "stream",
     "text": [
      "Rating         1177\n",
      "Current Ver       7\n",
      "Android Ver       2\n",
      "Type              1\n",
      "dtype: int64\n"
     ]
    }
   ],
   "source": [
    "nan_counts = train_data.isnull().sum()\n",
    "nan_columns = nan_counts[nan_counts > 0]\n",
    "sorted_nulls = nan_columns.sort_values(ascending=False)\n",
    "print(sorted_nulls)"
   ]
  },
  {
   "cell_type": "markdown",
   "metadata": {},
   "source": [
    "Ara tractarem els valors numèrics, en aquest cas l'únic que tenim és l'atribut *Rating*, i a continuació els atributs de tipus categòric. \n",
    "Per inserir els valors nuls, podem optar per aplicar la mitjana o la mediana de les dades, depenent de la variança de les dades. Sabem que, en atributs amb una alta variació, la mitjana no ens pot donar un valor representatiu de les dades. Per quantificar aquesta variabilitat, farem servir el coeficient de variació. Si el coeficient és alt, els valors nuls s'inseriran aplicant la mediana. En cas contrari, si el coeficient és baix, els valors nuls s'inseriran aplicant la mitjana. Seguint la convenció, considerarem que un coeficient de variació major al 20% indica que la variació de les dades és alta. "
   ]
  },
  {
   "cell_type": "code",
   "execution_count": 168,
   "metadata": {},
   "outputs": [
    {
     "name": "stdout",
     "output_type": "stream",
     "text": [
      "Coeficient de variació de l'atribut Rating: 12.386324998050604\n"
     ]
    }
   ],
   "source": [
    "mean_rating = train_data['Rating'].mean()\n",
    "std_rating = train_data['Rating'].std()\n",
    "cv_rating = (std_rating / mean_rating) * 100\n",
    "print(\"Coeficient de variació de l'atribut Rating:\", cv_rating)"
   ]
  },
  {
   "cell_type": "markdown",
   "metadata": {},
   "source": [
    "Com que la variança és baixa, emplenarem els valors nuls de l'atribut *Rating* a partir de la mitjana."
   ]
  },
  {
   "cell_type": "code",
   "execution_count": null,
   "metadata": {},
   "outputs": [],
   "source": [
    "# Calcular la mitjana del valor 'Rating' en el conjunt d'entrenament\n",
    "mean_rating = train_data['Rating'].mean()\n",
    "\n",
    "# Omplir els valors nuls de 'Rating' amb la mitjana en el conjunt d'entrenament\n",
    "train_data['Rating'].fillna(mean_rating, inplace=True)\n",
    "\n",
    "# Omplir els valors nuls de 'Rating' amb la mitjana en el conjunt de test\n",
    "test_data['Rating'].fillna(mean_rating, inplace=True)"
   ]
  },
  {
   "cell_type": "markdown",
   "metadata": {},
   "source": [
    "Pels atributs categòrics, els valors nuls els emplenarem amb la categoria més freqüent de la columna, és a dir, utilitzant la moda."
   ]
  },
  {
   "cell_type": "code",
   "execution_count": 170,
   "metadata": {},
   "outputs": [],
   "source": [
    "# Omplir els valors nuls a 'Current Ver', 'Android Ver' i 'Type' del conjunt d'entrenament\n",
    "train_data['Current Ver'] = train_data['Current Ver'].fillna(train_data['Current Ver'].mode()[0])\n",
    "train_data['Android Ver'] = train_data['Android Ver'].fillna(train_data['Android Ver'].mode()[0])\n",
    "train_data['Type'] = train_data['Type'].fillna(train_data['Type'].mode()[0])\n",
    "\n",
    "# Omplir els valors nuls a 'Current Ver', 'Android Ver' i 'Type' del conjunt de prova\n",
    "test_data['Current Ver'] = test_data['Current Ver'].fillna(train_data['Current Ver'].mode()[0])\n",
    "test_data['Android Ver'] = test_data['Android Ver'].fillna(train_data['Android Ver'].mode()[0])\n",
    "test_data['Type'] = test_data['Type'].fillna(train_data['Type'].mode()[0])"
   ]
  },
  {
   "cell_type": "markdown",
   "metadata": {},
   "source": [
    "### 2.2. Codificació i Normalització d'atributs"
   ]
  },
  {
   "cell_type": "markdown",
   "metadata": {},
   "source": [
    "Un cop finalitzat el tractament dels valors nuls, aquesta secció se centrarà en la codificació de les variables categòriques del conjunt train i test alhora. Aquest pas és essencial, ja que algorismes com el Support Vector Regression o el regressió lineal, que s'utilitzaran més endavant, requereixen que totes les dades estiguin codificades en format numèric per funcionar correctament.\n",
    "\n",
    "Com a recordatori, del dataset *train* tenim els següents atributs categòrics: \n",
    "\n",
    "- **App**  \n",
    "- **Category**  \n",
    "- **Reviews** \n",
    "- **Size** \n",
    "- **Installs** \n",
    "- **Type** \n",
    "- **Price** \n",
    "- **Content Rating** \n",
    "- **Genres** \n",
    "- **Last Updated** \n",
    "- **Current Ver** \n",
    "- **Android Ver**"
   ]
  },
  {
   "cell_type": "markdown",
   "metadata": {},
   "source": [
    "Com a primers atributs, tractarem la columna *Reviews*, *Installs* i *Price*. Com a casos especials, no caldrà codificar aquest atributs. Com s'ha comentat en una secció anterior, son atributs essencialment numèrics, tot i que Pandas els ha assignat com a categòrics. El que farem en aquest cas, pels atributs *Installs* i *Price*, serà eliminar algun caràcter present en els seus valors, i en el tres atributs en conjunt caldrà convertir-los a tipus numèric."
   ]
  },
  {
   "cell_type": "code",
   "execution_count": 172,
   "metadata": {},
   "outputs": [],
   "source": [
    "# Atribut Reviews\n",
    "train_data[\"Reviews\"] = pd.to_numeric(train_data[\"Reviews\"], errors='coerce')\n",
    "test_data[\"Reviews\"] = pd.to_numeric(test_data[\"Reviews\"], errors='coerce')\n",
    "\n",
    "# Atribut Installs\n",
    "# Eliminar '+' i ',' abans de convertir a numèric\n",
    "installs_cleaned_train = train_data[\"Installs\"].str.replace('+', '', regex=False).str.replace(',', '', regex=False)\n",
    "train_data[\"Installs\"] = pd.to_numeric(installs_cleaned_train, errors='coerce')\n",
    "\n",
    "installs_cleaned_test = test_data[\"Installs\"].str.replace('+', '', regex=False).str.replace(',', '', regex=False)\n",
    "test_data[\"Installs\"] = pd.to_numeric(installs_cleaned_test, errors='coerce')\n",
    "\n",
    "# Atribut Price\n",
    "# Eliminar '$' i ',' abans de convertir a numèric\n",
    "price_cleaned_train = train_data[\"Price\"].str.replace('$', '', regex=False).str.replace(',', '', regex=False)\n",
    "train_data[\"Price\"] = pd.to_numeric(price_cleaned_train, errors='coerce')\n",
    "price_cleaned_test = test_data[\"Price\"].str.replace('$', '', regex=False).str.replace(',', '', regex=False)\n",
    "test_data[\"Price\"] = pd.to_numeric(price_cleaned_test, errors='coerce')\n"
   ]
  },
  {
   "cell_type": "markdown",
   "metadata": {},
   "source": [
    "Continuarem codificant els següents atributs categòrics *Genres*, *Category* i *Content Rating*. En aquest cas, utilitzarem el One-Hot Encoding, ja que son atributs que no tenen un ordre en quant el seus valors, la qual cosa fa que altres tècniques com el Label Encoding no siguin apropiades"
   ]
  },
  {
   "cell_type": "code",
   "execution_count": 173,
   "metadata": {},
   "outputs": [],
   "source": [
    "# Codificació OneHotEncoder per 'Genres'\n",
    "onehot_encoder = OneHotEncoder(cols=['Genres'], use_cat_names=True)\n",
    "train_data = onehot_encoder.fit_transform(train_data)\n",
    "test_data = onehot_encoder.transform(test_data)\n",
    "\n",
    "# Codificació OneHotEncoder per 'Category'\n",
    "onehot_encoder = OneHotEncoder(cols=['Category'], use_cat_names=True)\n",
    "train_data = onehot_encoder.fit_transform(train_data)\n",
    "test_data = onehot_encoder.transform(test_data)\n",
    "\n",
    "# Codificació OneHotEncoder per 'Content Rating'\n",
    "onehot_encoder = OneHotEncoder(cols=['Content Rating'], use_cat_names=True)\n",
    "train_data = onehot_encoder.fit_transform(train_data)\n",
    "test_data = onehot_encoder.transform(test_data)"
   ]
  },
  {
   "cell_type": "markdown",
   "metadata": {},
   "source": [
    "A diferencia dels atributs anteriors, l'atribut *Type* té una relació ordinal, ja que representen categories amb un ordre lògic implícit: Free (gratuït) està en un extrem d'un escala, i Paid (pagat) a l'altre. Per aquesta raó, aplicarem el Label Encoding. "
   ]
  },
  {
   "cell_type": "code",
   "execution_count": 174,
   "metadata": {},
   "outputs": [],
   "source": [
    "# Codificació Ordinal per 'Type'\n",
    "le = OrdinalEncoder()\n",
    "train_data['Type'] = le.fit_transform(train_data['Type'])\n",
    "test_data['Type'] = le.transform(test_data['Type'])"
   ]
  },
  {
   "cell_type": "markdown",
   "metadata": {},
   "source": [
    "En quant a l'atribut *App*, com que no ens aporta informació, ja que el nom sols ens permet identificar l'aplicació, s'eliminarà del conjunt d'entrenament i del conjunt test."
   ]
  },
  {
   "cell_type": "code",
   "execution_count": 175,
   "metadata": {},
   "outputs": [],
   "source": [
    "train_data = train_data.drop('App', axis=1)\n",
    "test_data = test_data.drop('App', axis=1)"
   ]
  },
  {
   "cell_type": "markdown",
   "metadata": {},
   "source": [
    "Per a l'atribut *Last Updated*, una manera de convertir-lo en un atribut numèric, seria calcular per a cada element la diferència entre la data més alta del atribut i la data de l'última actualització de l'aplicació. Aquest càlcul ens donarà un valor numèric que representarà el dies transcorreguts des de l'última actualització. Pot ser interessant aquest atribut, ja que comunment les actualitzacions recents de les aplicacions poden ser indicatives de la popularitat d'una aplicació."
   ]
  },
  {
   "cell_type": "code",
   "execution_count": 176,
   "metadata": {},
   "outputs": [],
   "source": [
    "# Convertim 'Last Updated' a format datetime en el conjunt d'entrenament\n",
    "train_data['Last Updated'] = pd.to_datetime(train_data['Last Updated'], format='%B %d, %Y')\n",
    "\n",
    "# Determinem la data màxima del conjunt d'entrenament\n",
    "max_train_date = train_data['Last Updated'].max()\n",
    "\n",
    "# Calculem els dies des de l'última actualització utilitzant la data màxima\n",
    "train_data['Days Since Last Update'] = (max_train_date - train_data['Last Updated']).dt.days\n",
    "\n",
    "# Eliminem la columna 'Last Updated' en el conjunt d'entrenament\n",
    "train_data = train_data.drop(columns=[\"Last Updated\"])\n",
    "\n",
    "# Repetim les mateixes operacions pel conjunt de prova (test)\n",
    "test_data['Last Updated'] = pd.to_datetime(test_data['Last Updated'], format='%B %d, %Y')\n",
    "test_data['Days Since Last Update'] = (max_train_date - test_data['Last Updated']).dt.days\n",
    "test_data = test_data.drop(columns=[\"Last Updated\"])\n"
   ]
  },
  {
   "cell_type": "markdown",
   "metadata": {},
   "source": [
    "En quant a l'atribut *Size*, hem vist que essencialment és numèric, on també i tenim un caràcter que ens indica la unitat de mesura, \"M\" o \"k\". En alguns casos, ens apareix que el tamany de l'aplicació depen del dispositiu, amb l'etiqueta *Varies with device*. El que farem és converit les mides en bytes i elimina seguidament la unitat de mesura, i per aquells valors on es contingui l'etiqueta *Varies with device*, s'emplenarà la mitjana de l'atribut."
   ]
  },
  {
   "cell_type": "code",
   "execution_count": 177,
   "metadata": {},
   "outputs": [],
   "source": [
    "# Definir un diccionari de conversió per a les unitats\n",
    "conversion_factors = {\n",
    "    'k': 1e3,   # Kilobytes\n",
    "    'M': 1e6,   # Megabytes\n",
    "    'B': 1      # Bytes\n",
    "}\n",
    "\n",
    "# Funció simplificada per a convertir mides\n",
    "def convert_size(size):\n",
    "    size = size.strip()  # Eliminar espais al principi i al final\n",
    "    if size == \"Varies with device\":\n",
    "        return np.nan  # Retornar NaN per ser omplert posteriorment\n",
    "    else:\n",
    "        unit = size[-1]\n",
    "        number = size[:-1]\n",
    "        \n",
    "        # Comprovació simple per a assegurar-nos que el número és vàlid\n",
    "        if number.replace('.', '', 1).isdigit() and unit in conversion_factors:\n",
    "            number = float(number)\n",
    "            return number * conversion_factors[unit]  # Multiplicar pel factor corresponent\n",
    "        else:\n",
    "            return np.nan  # Si el número no és vàlid, retornar NaN\n",
    "\n",
    "# Aplicar la funció a les columnes 'Size' en ambdós conjunts de dades\n",
    "train_data['Size'] = train_data['Size'].apply(convert_size)\n",
    "test_data['Size'] = test_data['Size'].apply(convert_size)\n",
    "\n",
    "# Calcular la mitjana de la mida en el conjunt d'entrenament, ignorant els NaN\n",
    "mean_size = train_data['Size'].mean()\n",
    "\n",
    "# Omplir els valors perduts amb la mitjana\n",
    "train_data['Size'].fillna(mean_size, inplace=True)\n",
    "test_data['Size'].fillna(mean_size, inplace=True)\n",
    "\n",
    "# (Opcional) Convertir a enter si prefereixes mides com a enters\n",
    "train_data['Size'] = train_data['Size'].astype(int)\n",
    "test_data['Size'] = test_data['Size'].astype(int)\n"
   ]
  },
  {
   "cell_type": "markdown",
   "metadata": {},
   "source": [
    "Per tractar l'atribut *Android Ver*, es farà el següent: quan es trobi el valor \"Varies with device\", aquest es substituirà per la moda de les versions disponibles per a l'aplicació. Si el valor és del tipus \"X and up\" (per exemple, \"4.0 and up\"), s'eliminarà el sufix \"and up\" i es restarà amb la versió més alta de l'atribut. En cas que es presenti un interval de versions (per exemple, \"4.0 - 5.0\"), es farà la resta entre la versió mínima i la màxima per obtenir la diferència entre ambdues.\n",
    "Aquest nou atribut ens pot resultar útil, ja que ens permet quantificar indirectament a quants dispositius podran accedir a l'aplicació. En cas que el valor sigui alt, significarà que molts dispositius tenen compatibilitat amb l'aplicació, i això pot indicar que sigui més descargada.\n"
   ]
  },
  {
   "cell_type": "code",
   "execution_count": 178,
   "metadata": {},
   "outputs": [],
   "source": [
    "# Substituir \"Varies with device\" per la moda de 'Android Ver'\n",
    "mode_android_ver = train_data['Android Ver'].mode()[0]\n",
    "train_data['Android Ver'] = train_data['Android Ver'].replace('Varies with device', mode_android_ver)\n",
    "\n",
    "def normalitzar_versio_android(versio):\n",
    "    # Tractar els intervals\n",
    "    if '-' in versio:\n",
    "        versio_inici, versio_fi = versio.split('-')\n",
    "        versio_inici = versio_inici.strip()\n",
    "        versio_fi = versio_fi.strip()\n",
    "        \n",
    "        # Assegurar-se que ambdues versions tinguin 3 parts (major.minor.patch)\n",
    "        parts_inici = versio_inici.split('.')\n",
    "        parts_fi = versio_fi.split('.')\n",
    "        \n",
    "        # Normalitzar amb zeros si falten parts\n",
    "        versio_inici = '.'.join(parts_inici + ['0'] * (3 - len(parts_inici)))\n",
    "        versio_fi = '.'.join(parts_fi + ['0'] * (3 - len(parts_fi)))\n",
    "\n",
    "        # Convertir les versions a números enters (sense punts)\n",
    "        versio_inici = int(versio_inici.replace('.', ''))\n",
    "        versio_fi = int(versio_fi.replace('.', ''))\n",
    "\n",
    "        # Retornar la mitjana de les dues versions\n",
    "        return (versio_inici + versio_fi) // 2\n",
    "    \n",
    "    # Si no és un interval, simplement normalitzar la versió\n",
    "    parts_versio = versio.split('.')\n",
    "    if len(parts_versio) < 3:\n",
    "        versio = '.'.join(parts_versio + ['0'] * (3 - len(parts_versio)))\n",
    "    return versio.replace('.', '')  # Retornar sense punts per convertir en enter\n",
    "\n",
    "# Normalitzar i convertir les versions en el conjunt d'entrenament\n",
    "train_data['Android Ver'] = train_data['Android Ver'].apply(normalitzar_versio_android)\n",
    "\n",
    "# Convertir a numèric (coerció de valors no vàlids a NaN)\n",
    "train_data['Android Ver'] = pd.to_numeric(train_data['Android Ver'], errors='coerce')\n",
    "\n",
    "# Restar la versió màxima\n",
    "max_version = train_data['Android Ver'].max()\n",
    "train_data['Android Ver'] = max_version - train_data['Android Ver']\n",
    "\n",
    "# Repetir operacions per al conjunt de test\n",
    "test_data['Android Ver'] = test_data['Android Ver'].replace('Varies with device', mode_android_ver)\n",
    "test_data['Android Ver'] = test_data['Android Ver'].apply(normalitzar_versio_android)\n",
    "\n",
    "# Convertir a numèric (coerció de valors no vàlids a NaN)\n",
    "test_data['Android Ver'] = pd.to_numeric(test_data['Android Ver'], errors='coerce')\n",
    "\n",
    "# Restar la versió màxima del conjunt de test\n",
    "test_data['Android Ver'] = max_version - test_data['Android Ver']\n",
    "\n",
    "# Omplir NaN amb la mitjana (o altre valor)\n",
    "mean_version = train_data['Android Ver'].mean()\n",
    "train_data['Android Ver'].fillna(mean_version, inplace=True)\n",
    "test_data['Android Ver'].fillna(mean_version, inplace=True)\n"
   ]
  },
  {
   "cell_type": "markdown",
   "metadata": {},
   "source": [
    "Per l'atribut *Current Ver*, es substituirà el valor \"Varies with device\" per la moda de la columna i s'eliminaran els caràcters no numèrics per normalitzar les versions. Després, es convertiran les versions a format numèric i es faran servir la moda per omplir els valors nuls.En l'atribut Current Ver, primer s'ha substituït el valor \"Varies with device\" per la moda de la columna, ja que aquest valor no aporta informació coherent i la moda és un millor representant de la distribució de les versions. A continuació, s'han eliminat els caràcters no numèrics (com lletres i símbols), conservant només els números i els punts, per assegurar una representació homogènia de les versions. Finalment, s'ha creat una funció per convertir les versions a un format numèric (major.minor.patch), omplint els valors nuls amb la moda calculada prèviament."
   ]
  },
  {
   "cell_type": "code",
   "execution_count": 179,
   "metadata": {},
   "outputs": [],
   "source": [
    "# Substituir \"Varies with device\" per la moda de la columna\n",
    "mode_current_ver = train_data['Current Ver'].mode()[0]\n",
    "train_data['Current Ver'] = train_data['Current Ver'].replace('Varies with device', mode_current_ver)\n",
    "\n",
    "# Eliminar caràcters no numèrics i mantenir només les versions\n",
    "train_data['Current Ver'] = train_data['Current Ver'].replace(r'[^\\d.]', '', regex=True)\n",
    "\n",
    "# Convertir la versió a un format numèric per simplificar\n",
    "def versio_a_numero(versio):\n",
    "    parts = versio.split('.')\n",
    "    # Normalitzar si falten parts\n",
    "    while len(parts) < 3:\n",
    "        parts.append('0')\n",
    "    return int(''.join(parts[:3]))  # Només agafem les tres primeres parts i les combinem\n",
    "\n",
    "# Aplicar la conversió a numèric\n",
    "train_data['Current Ver'] = train_data['Current Ver'].apply(versio_a_numero)\n",
    "\n",
    "# Omplir valors nuls amb la moda\n",
    "train_data['Current Ver'].fillna(mode_current_ver, inplace=True)\n",
    "\n",
    "# Repetir els mateixos passos per al conjunt de test\n",
    "test_data['Current Ver'] = test_data['Current Ver'].replace('Varies with device', mode_current_ver)\n",
    "test_data['Current Ver'] = test_data['Current Ver'].replace(r'[^\\d.]', '', regex=True)\n",
    "test_data['Current Ver'] = test_data['Current Ver'].apply(versio_a_numero)\n",
    "test_data['Current Ver'].fillna(mode_current_ver, inplace=True)\n"
   ]
  },
  {
   "cell_type": "markdown",
   "metadata": {},
   "source": [
    "Ja acabada la codificació dels atributs, per garantir un millor rendiment dels models que entrenarem, el que farem és normalitzar les dades, ja que algunes variables tenen rangs diferents, com l'atribut *Last Updated*, *Size*, *Android Ver*, etc. Per aquesta raó, utilitzarem la normalització MinMaxScaler, que ajusta les dades a un rang entre 0 i 1. "
   ]
  },
  {
   "cell_type": "code",
   "execution_count": 180,
   "metadata": {},
   "outputs": [],
   "source": [
    "scaler = MinMaxScaler()\n",
    "\n",
    "data_escalada_train = scaler.fit_transform(train_data)\n",
    "train_data = pd.DataFrame(data_escalada_train, columns=train_data.columns)\n",
    "\n",
    "data_escalada_test = scaler.transform(test_data)\n",
    "test_data = pd.DataFrame(data_escalada_test, columns=test_data.columns)"
   ]
  },
  {
   "cell_type": "markdown",
   "metadata": {},
   "source": [
    "### 2.3. Selecció d'atributs"
   ]
  }
 ],
 "metadata": {
  "kernelspec": {
   "display_name": "Python 3",
   "language": "python",
   "name": "python3"
  },
  "language_info": {
   "codemirror_mode": {
    "name": "ipython",
    "version": 3
   },
   "file_extension": ".py",
   "mimetype": "text/x-python",
   "name": "python",
   "nbconvert_exporter": "python",
   "pygments_lexer": "ipython3",
   "version": "3.13.0"
  }
 },
 "nbformat": 4,
 "nbformat_minor": 2
}
